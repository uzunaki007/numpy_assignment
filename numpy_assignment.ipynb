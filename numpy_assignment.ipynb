{
 "cells": [
  {
   "cell_type": "code",
   "execution_count": 6,
   "id": "5c9b133f-4266-4292-93db-a630115f581c",
   "metadata": {},
   "outputs": [],
   "source": [
    "##given info\n",
    "import numpy as np\n",
    "list_ = [ '1' , '2' , '3' , '4' , '5' ]\n",
    "array_list = np.array(object = list_)"
   ]
  },
  {
   "cell_type": "code",
   "execution_count": 17,
   "id": "fd4bfb16-5fe0-4c0c-82ab-48a9d1490650",
   "metadata": {},
   "outputs": [
    {
     "name": "stdout",
     "output_type": "stream",
     "text": [
      "the data type of variable list_1 is <U1\n",
      "the data type of variable array_list is <U1\n",
      "the datatype of both is the same and it's <U1\n"
     ]
    }
   ],
   "source": [
    "#Q1. Is there any difference in the data type of variables list_ and array_list? If there is then write a code\n",
    "#to print the data types of both the variables.\n",
    "#ans1_\n",
    "list_1=np.asarray(list_)\n",
    "print(\"the data type of variable list_1 is\", list_1.dtype)\n",
    "print(\"the data type of variable array_list is\",array_list.dtype)\n",
    "if list_1.dtype==array_list.dtype:\n",
    "    print(\"the datatype of both is the same and it's\",list_1.dtype)\n",
    "else:\n",
    "    print(\"the data types of list_1 and array_list are\", list_1.dtype, array_list.dtype)"
   ]
  },
  {
   "cell_type": "code",
   "execution_count": 30,
   "id": "38ea31b7-dffc-4fba-9b7b-32dfe4037ae8",
   "metadata": {},
   "outputs": [
    {
     "name": "stdout",
     "output_type": "stream",
     "text": [
      "the data type of  1 in the variable list_1 is  <U1\n",
      "the data type of  2 in the variable list_1 is  <U1\n",
      "the data type of  3 in the variable list_1 is  <U1\n",
      "the data type of  4 in the variable list_1 is  <U1\n",
      "the data type of  5 in the variable list_1 is  <U1\n",
      "the data type of  1 in the variable array_list is  <U1\n",
      "the data type of  2 in the variable array_list is  <U1\n",
      "the data type of  3 in the variable array_list is  <U1\n",
      "the data type of  4 in the variable array_list is  <U1\n",
      "the data type of  5 in the variable array_list is  <U1\n"
     ]
    }
   ],
   "source": [
    "#Q2. Write a code to print the data type of each and every element of both the variables list_ and\n",
    "#array_list.\n",
    "#ans2\n",
    "r=0\n",
    "m=0\n",
    "#the datatype of every element of the variablr list_1\n",
    "while r <= (list_1.size - 1):\n",
    "    print(\"the data type of \", list_1[r] ,\"in the variable list_1 is \", list_1[r].dtype)\n",
    "    r+=1\n",
    "#the datatype of every element of the variablr array_list\n",
    "while m <= (array_list.size - 1):\n",
    "    print(\"the data type of \", array_list[m] ,\"in the variable array_list is \", array_list[m].dtype)\n",
    "    m+=1"
   ]
  },
  {
   "cell_type": "code",
   "execution_count": 35,
   "id": "c6ab5e52-e05e-40c4-81e7-2904044a840c",
   "metadata": {},
   "outputs": [
    {
     "name": "stdout",
     "output_type": "stream",
     "text": [
      "the datatype of the variables list_1 and array_list are  <U1 and int64\n",
      "the data type of  1 in the variable list_1 is  <U1\n",
      "the data type of  2 in the variable list_1 is  <U1\n",
      "the data type of  3 in the variable list_1 is  <U1\n",
      "the data type of  4 in the variable list_1 is  <U1\n",
      "the data type of  5 in the variable list_1 is  <U1\n",
      "the data type of  1 in the variable array_list is  int64\n",
      "the data type of  2 in the variable array_list is  int64\n",
      "the data type of  3 in the variable array_list is  int64\n",
      "the data type of  4 in the variable array_list is  int64\n",
      "the data type of  5 in the variable array_list is  int64\n"
     ]
    }
   ],
   "source": [
    "#Q3(I). Considering the changes in the variable, array_list Will there be any difference in the data type\n",
    "#of the elements present in both the variables, list_1 and array_list? If so then print the data types\n",
    "#of each and every element present in both the variables, list_1 and arra_list.\n",
    "#ans3\n",
    "array_list = np.array(object = list_, dtype = int)\n",
    "if list_1.dtype==array_list.dtype:\n",
    "    print(\"the datatype of both the variables list_1 and array_list are the same\")\n",
    "else:\n",
    "    print(\"the datatype of the variables list_1 and array_list are \", list_1.dtype, \"and\",array_list.dtype)\n",
    "    r=0\n",
    "    m=0\n",
    "    #the datatype of every element of the variablr list_1\n",
    "    while r <= (list_1.size - 1):\n",
    "        print(\"the data type of \", list_1[r] ,\"in the variable list_1 is \", list_1[r].dtype)\n",
    "        r+=1\n",
    "    #the datatype of every element of the variablr array_list\n",
    "    while m <= (array_list.size - 1):\n",
    "        print(\"the data type of \", array_list[m] ,\"in the variable array_list is \", array_list[m].dtype)\n",
    "        m+=1\n",
    "\n"
   ]
  },
  {
   "cell_type": "code",
   "execution_count": 36,
   "id": "d5b78f70-f7cf-4e57-a3bb-4a594744cdcf",
   "metadata": {},
   "outputs": [],
   "source": [
    "#Consider the below code to answer further questions:\n",
    "import numpy as np\n",
    "num_list = [ [ 1 , 2 , 3 ] , [ 4 , 5 , 6 ] ]\n",
    "num_array = np.array(object = num_list)"
   ]
  },
  {
   "cell_type": "code",
   "execution_count": 37,
   "id": "27075c52-6890-48a3-a3c2-6bbef606b2a2",
   "metadata": {},
   "outputs": [
    {
     "name": "stdout",
     "output_type": "stream",
     "text": [
      "the shape of the variable num_array is  (2, 3)\n",
      "the size of the variable num_array is  6\n"
     ]
    }
   ],
   "source": [
    "#Q4. Write a code to find the following characteristics of variable, num_array:\n",
    "#(i) shape\n",
    "#(ii) size\n",
    "#ans4\n",
    "#shape of num_array\n",
    "print(\"the shape of the variable num_array is \", num_array.shape)\n",
    "#size of num_array\n",
    "print(\"the size of the variable num_array is \", num_array.size)\n"
   ]
  },
  {
   "cell_type": "code",
   "execution_count": 43,
   "id": "3cecd34b-34a1-491a-9acc-0cc6c13f9165",
   "metadata": {},
   "outputs": [
    {
     "name": "stdout",
     "output_type": "stream",
     "text": [
      "the numpy array of 3*3 matrix containg zeores only \n",
      " [[0. 0. 0.]\n",
      " [0. 0. 0.]\n",
      " [0. 0. 0.]]\n"
     ]
    }
   ],
   "source": [
    "#Q5. Write a code to create numpy array of 3*3 matrix containing zeros only, using a numpy array\n",
    "#creation function.\n",
    "#ans5\n",
    "#creating a 3X3 matrix ore basically an array wich only consists of zero\n",
    "print(\"the numpy array of 3*3 matrix containg zeores only \\n\", np.matrix(np.zeros((3,3))))"
   ]
  },
  {
   "cell_type": "code",
   "execution_count": 47,
   "id": "c337b570-ab51-4e59-96c8-b67c735826be",
   "metadata": {},
   "outputs": [
    {
     "name": "stdout",
     "output_type": "stream",
     "text": [
      "the 5*5 identity matrix is \n",
      " [[1. 0. 0. 0. 0.]\n",
      " [0. 1. 0. 0. 0.]\n",
      " [0. 0. 1. 0. 0.]\n",
      " [0. 0. 0. 1. 0.]\n",
      " [0. 0. 0. 0. 1.]] \n",
      " the shape of the identity matrix is \n",
      " (5, 5)\n"
     ]
    }
   ],
   "source": [
    "#Q6. Create an identity matrix of shape (5,5) using numpy functions?\n",
    "#ans6\n",
    "#creating a 5*5 identity maatrix\n",
    "print(\"the 5*5 identity matrix is \\n\", np.matrix(np.eye(5)),\"\\n the shape of the identity matrix is \\n\",np.matrix(np.eye(5)).shape)"
   ]
  },
  {
   "cell_type": "code",
   "execution_count": null,
   "id": "526e2976-8a3b-463f-a81d-173da4b29e6b",
   "metadata": {},
   "outputs": [],
   "source": []
  }
 ],
 "metadata": {
  "kernelspec": {
   "display_name": "Python 3 (ipykernel)",
   "language": "python",
   "name": "python3"
  },
  "language_info": {
   "codemirror_mode": {
    "name": "ipython",
    "version": 3
   },
   "file_extension": ".py",
   "mimetype": "text/x-python",
   "name": "python",
   "nbconvert_exporter": "python",
   "pygments_lexer": "ipython3",
   "version": "3.10.8"
  }
 },
 "nbformat": 4,
 "nbformat_minor": 5
}
